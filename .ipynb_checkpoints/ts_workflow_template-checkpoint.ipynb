{
 "cells": [
  {
   "cell_type": "markdown",
   "id": "e843c11b-653b-49ab-9c97-cef74539c97f",
   "metadata": {},
   "source": [
    "# Workflow structure"
   ]
  },
  {
   "cell_type": "markdown",
   "id": "90b2aac5-04ad-4f03-9fdd-4d21953488bc",
   "metadata": {},
   "source": [
    "- Time series modeling involves many steps and can be a process of trial and error, and iteration.\n",
    "- The following is a general workflow to use for modeling time series data."
   ]
  },
  {
   "cell_type": "markdown",
   "id": "e5068645-a98d-4d04-a1a7-374bf74df12b",
   "metadata": {},
   "source": [
    "### Workflow steps"
   ]
  },
  {
   "cell_type": "markdown",
   "id": "1d5ec84f-bf08-4164-b59e-9d153c0ad4e1",
   "metadata": {},
   "source": [
    "1. Import Libraries and Custom Functions\n",
    "2. Load and Explore Data\n",
    "3. Handle Missing Values\n",
    "4. Determine if seasonal or nonseasonal model is more appropriate for data\n",
    "5. Check Stationarity and determine differencing (d and D)\n",
    "6. Check Autocorrelation and Partial Autocorrelation to Determine Initial Orders\n",
    "7. Train Test Split\n",
    "8. Define the Time Series Model Orders and Fit the Model to the Training Data\n",
    "9. Generate and Visualize Forecast\n",
    "10. Evaluate Model Performance\n",
    "11. Iterate as Needed\n",
    "12. Grid Search Orders with pmdarima\n",
    "13. Fit Statsmodels SARIMA Model using the Parameters from auto_arima\n",
    "14. Select and Justify the Final Model\n",
    "15. Fit a Final Model and the Entire Time Series\n",
    "16. Generate and Visualize Future Forecasts\n",
    "17. Calculate Summary Metrics for Stakeholder (Optional)"
   ]
  },
  {
   "cell_type": "markdown",
   "id": "5ffc31e4-e2bd-4e50-8bfb-5cb0dec2ad23",
   "metadata": {
    "jp-MarkdownHeadingCollapsed": true
   },
   "source": [
    "### 1. Import libraries and Custom Functions"
   ]
  },
  {
   "cell_type": "code",
   "execution_count": null,
   "id": "9da70dc5-18ac-4e9b-9243-c66036acaf2a",
   "metadata": {},
   "outputs": [],
   "source": [
    "import matplotlib.pyplot as plt\r\n",
    "import pandas as pd\r\n",
    "import seaborn as sns\r\n",
    "import statsmodels.api as sm\r\n",
    "import statsmodels.tsa.api as tsa\r\n",
    "​import pmdarima as pm\r\n",
    "from pmdarima.arima.utils import ndiffs, nsdiffs\r\n",
    "​from pmdarima.model_selection import train_test_split\r\n",
    "import pmdarima as pm\r\n",
    "​plt.rcParams['figure.figsize']=(12,3)"
   ]
  },
  {
   "cell_type": "markdown",
   "id": "af1cd925-3e71-49ee-a17b-9dfee1537bca",
   "metadata": {},
   "source": [
    "- There were four custom functions created in this unit so far to use for time series modeling:\n",
    "    - plot_forecast\n",
    "    - regression_metrics_ts\n",
    "    - get_adfuller_results\n",
    "    - plot_acf_pacf"
   ]
  },
  {
   "cell_type": "code",
   "execution_count": null,
   "id": "02ba24f1-c301-4738-8f4e-d9e79df743cb",
   "metadata": {},
   "outputs": [],
   "source": [
    "def plot_forecast(ts_train, ts_test, forecast_df, n_train_lags=None, \n",
    "                  figsize=(10,4), title='Comparing Forecast vs. True Data'):\n",
    "    ### PLot training data, and forecast (with upper/,lower ci)\n",
    "    fig, ax = plt.subplots(figsize=figsize)\n",
    "\n",
    "    # setting the number of train lags to plot if not specified\n",
    "    if n_train_lags==None:\n",
    "        n_train_lags = len(ts_train)\n",
    "            \n",
    "    # Plotting Training  and test data\n",
    "    ts_train.iloc[-n_train_lags:].plot(ax=ax, label=\"train\")\n",
    "    ts_test.plot(label=\"test\", ax=ax)\n",
    "\n",
    "    # Plot forecast\n",
    "    forecast_df['mean'].plot(ax=ax, color='green', label=\"forecast\")\n",
    "\n",
    "    # Add the shaded confidence interval\n",
    "    ax.fill_between(forecast_df.index, \n",
    "                    forecast_df['mean_ci_lower'],\n",
    "                   forecast_df['mean_ci_upper'],\n",
    "                   color='green', alpha=0.3,  lw=2)\n",
    "\n",
    "    # set the title and add legend\n",
    "    ax.set_title(title)\n",
    "    ax.legend();\n",
    "    \n",
    "    return fig, ax"
   ]
  },
  {
   "cell_type": "code",
   "execution_count": null,
   "id": "98883b8e-f22f-4653-b511-4732a55edcec",
   "metadata": {},
   "outputs": [],
   "source": [
    "from sklearn.metrics import mean_absolute_error, mean_squared_error, r2_score, mean_absolute_percentage_error\n",
    "\n",
    "def regression_metrics_ts(ts_true, ts_pred, label=\"\", verbose=True, output_dict=False,):\n",
    "    # Get metrics\n",
    "    mae = mean_absolute_error(ts_true, ts_pred)\n",
    "    mse = mean_squared_error(ts_true, ts_pred)\n",
    "    rmse = mean_squared_error(ts_true, ts_pred, squared=False)\n",
    "    r_squared = r2_score(ts_true, ts_pred)\n",
    "    mae_perc = mean_absolute_percentage_error(ts_true, ts_pred) * 100\n",
    "\n",
    "    if verbose == True:\n",
    "        # Print Result with label\n",
    "        header = \"---\" * 20\n",
    "        print(header, f\"Regression Metrics: {label}\", header, sep=\"\\n\")\n",
    "        print(f\"- MAE = {mae:,.3f}\")\n",
    "        print(f\"- MSE = {mse:,.3f}\")\n",
    "        print(f\"- RMSE = {rmse:,.3f}\")\n",
    "        print(f\"- R^2 = {r_squared:,.3f}\")\n",
    "        print(f\"- MAPE = {mae_perc:,.2f}%\")\n",
    "\n",
    "    if output_dict == True:\n",
    "        metrics = {\n",
    "            \"Label\": label,\n",
    "            \"MAE\": mae,\n",
    "            \"MSE\": mse,\n",
    "            \"RMSE\": rmse,\n",
    "            \"R^2\": r_squared,\n",
    "            \"MAPE(%)\": mae_perc,\n",
    "        }\n",
    "        return metrics"
   ]
  },
  {
   "cell_type": "code",
   "execution_count": null,
   "id": "3c50fab0-905e-4af3-96b7-ff170d759e11",
   "metadata": {},
   "outputs": [],
   "source": [
    "# Custom function for Ad Fuller Test\n",
    "def get_adfuller_results(ts, alpha=.05, label='adfuller', **kwargs): #kwargs for adfuller()\n",
    "    # Saving each output\n",
    "    (test_stat, pval, nlags, nobs, crit_vals_d, \n",
    "    icbest ) = tsa.adfuller(ts, **kwargs)\n",
    "    # Converting output to a dictionary with the interpretation of p\n",
    "    adfuller_results = {'Test Statistic': test_stat,\n",
    "                        \"# of Lags Used\":nlags, \n",
    "                       '# of Observations':nobs,\n",
    "                        'p-value': round(pval,6),\n",
    "                        'alpha': alpha,\n",
    "                       'sig/stationary?': pval < alpha}\n",
    "    return pd.DataFrame(adfuller_results, index =[label])"
   ]
  },
  {
   "cell_type": "code",
   "execution_count": null,
   "id": "6b2344fe-c452-44be-b1a5-76b95ccb54e0",
   "metadata": {},
   "outputs": [],
   "source": [
    "# Custom function for Ad Fuller Test\n",
    "def get_adfuller_results(ts, alpha=.05, label='adfuller', **kwargs): #kwargs for adfuller()\n",
    "    # Saving each output\n",
    "    (test_stat, pval, nlags, nobs, crit_vals_d, \n",
    "    icbest ) = tsa.adfuller(ts, **kwargs)\n",
    "    # Converting output to a dictionary with the interpretation of p\n",
    "    adfuller_results = {'Test Statistic': test_stat,\n",
    "                        \"# of Lags Used\":nlags, \n",
    "                       '# of Observations':nobs,\n",
    "                        'p-value': round(pval,6),\n",
    "                        'alpha': alpha,\n",
    "                       'sig/stationary?': pval < alpha}\n",
    "    return pd.DataFrame(adfuller_results, index =[label])"
   ]
  },
  {
   "cell_type": "markdown",
   "id": "014ccc13-d61e-4c80-85e7-bd59483c832f",
   "metadata": {
    "jp-MarkdownHeadingCollapsed": true
   },
   "source": [
    "### 2. Load and Explore Data"
   ]
  },
  {
   "cell_type": "markdown",
   "id": "656d77f0-7150-4685-86a0-9045ab3fdb97",
   "metadata": {},
   "source": [
    "- Load the data into a Pandas DF and explore structure, summary stats, any trends or patterns.\n",
    "- Prepare datetime index and set a frequency. This may vary in complexity depending on the dataset."
   ]
  },
  {
   "cell_type": "code",
   "execution_count": null,
   "id": "b5aac6da-8d16-43e7-b62f-3343dde5017b",
   "metadata": {},
   "outputs": [],
   "source": [
    "## Load the data\n",
    "fname =''\n",
    "df = pd.read_csv(fname,\n",
    "                 # use args below if know datetime column already\n",
    "#                 parse_dates=[''], index_col=\"\" \n",
    "                )\n",
    "df"
   ]
  },
  {
   "cell_type": "code",
   "execution_count": null,
   "id": "e6856a7b-049a-4640-8b7d-2206fabdced7",
   "metadata": {},
   "outputs": [],
   "source": [
    "# make sure index is datetime index"
   ]
  },
  {
   "cell_type": "markdown",
   "id": "92d12333-0fc1-48a2-870c-6d1df11effca",
   "metadata": {},
   "source": [
    "**Define Time Series for Modeling**\n",
    "- Decide what data to include.\n",
    "    - How far into the future do you want to forecast? Test splits need to be at least this long.\n",
    "- Decide final timespan for modeling and save as `ts`"
   ]
  },
  {
   "cell_type": "code",
   "execution_count": null,
   "id": "e4da925c-0527-49d2-84cb-3f64543d2702",
   "metadata": {},
   "outputs": [],
   "source": [
    "# Select time series to model\n",
    "col = '' # if a dataframe\n",
    "ts = df[col]\n",
    "ts"
   ]
  },
  {
   "cell_type": "markdown",
   "id": "714156a4-e8b8-445f-b6eb-93b6d873e71e",
   "metadata": {},
   "source": [
    "**Set Frequency**\n",
    "- What freq is the data in? Is this the freq needed for the model?"
   ]
  },
  {
   "cell_type": "code",
   "execution_count": null,
   "id": "5ed25ed8-1977-49cc-ae9e-4f469499efba",
   "metadata": {},
   "outputs": [],
   "source": [
    "# Check frequency\n",
    "ts.index"
   ]
  },
  {
   "cell_type": "markdown",
   "id": "19906f8f-52e1-4a0f-8d09-6856183761bc",
   "metadata": {},
   "source": [
    "- If needed, resample to required frequency."
   ]
  },
  {
   "cell_type": "code",
   "execution_count": null,
   "id": "b03bbf4f-a72e-4714-a1ac-cb7b69bbb1ea",
   "metadata": {},
   "outputs": [],
   "source": [
    "# Resample to req freq\n",
    "ts = ts.reample(...).agg()\n",
    "ts"
   ]
  },
  {
   "cell_type": "markdown",
   "id": "0ec6a5c9-d80c-43e7-8d60-38c6c16024bc",
   "metadata": {},
   "source": [
    "**Visualize Time Series**"
   ]
  },
  {
   "cell_type": "code",
   "execution_count": null,
   "id": "5e658ea5-bbf1-4a3a-94b4-92408f01c549",
   "metadata": {},
   "outputs": [],
   "source": [
    "# Visualize selected time series\n",
    "ax = ts.plot()"
   ]
  },
  {
   "cell_type": "markdown",
   "id": "7a74467f-d8c4-47fb-acd8-07ea5b03611d",
   "metadata": {
    "jp-MarkdownHeadingCollapsed": true
   },
   "source": [
    "### 3. Handle Missing Values"
   ]
  },
  {
   "cell_type": "markdown",
   "id": "d662cdf9-e459-467e-b254-dfa2ffab6c2e",
   "metadata": {},
   "source": [
    "- Check for missing values in the ts data. If any are present decide on appropriate method for handling, such as forward or backward filling, or interpolation. These methods are okay to use before TTS."
   ]
  },
  {
   "cell_type": "code",
   "execution_count": null,
   "id": "dc507b43-f07a-43d3-a7f7-8caacec6c43e",
   "metadata": {},
   "outputs": [],
   "source": [
    "# Check for null values\n",
    "ts.isna().sum()"
   ]
  },
  {
   "cell_type": "code",
   "execution_count": null,
   "id": "633bda61-044b-4b9f-a7cd-3e144a87a7b9",
   "metadata": {},
   "outputs": [],
   "source": [
    "# Impute null values, if any\n",
    "# ts = ts.fillna(0)\n",
    "# ts = ts.interpolate()\n",
    "# ts = ts.fillna(method='ffill')\n",
    "# ts = ts.fillna(method='bfill')"
   ]
  },
  {
   "cell_type": "markdown",
   "id": "802e6eed-dcfe-4b6b-87bd-d822d7ef1015",
   "metadata": {
    "jp-MarkdownHeadingCollapsed": true
   },
   "source": [
    "### 4. Determine if seasonal or nonseasonal model is more appropriate for data"
   ]
  },
  {
   "cell_type": "markdown",
   "id": "f1338459-4f10-400e-aa67-f572258dd8a7",
   "metadata": {},
   "source": [
    "- If there is suspected seasonality, decompose the time series into constituent components - trend, seasonality, and residuals - using techniques like seasonal decomposition.\n",
    "- This step helps identify underlying patterns, such as:\n",
    "    - Is there significant seasonality to the data?\n",
    "        - Are the heights of the seasonal component large or small compared to the original time series units?\n",
    "    - If so, what is the length of a season (m)?\n",
    "        - Seasons are usually based on freq of the time series. For example:\n",
    "            - Daily: m=365 (seasonal to a month? m=30)\n",
    "            - Weekly: m=52 (seasonal to a quarter? m=12)\n",
    "            - Monthly: m=12"
   ]
  },
  {
   "cell_type": "code",
   "execution_count": null,
   "id": "bd3eb23a-8b61-4802-9abc-de15e72c6117",
   "metadata": {},
   "outputs": [],
   "source": [
    "# Use seasonal decompose to check for seasonality\n",
    "decomp = tsa.seasonal_decompose(ts)\n",
    "fig = decomp.plot()\n",
    "fig.set_size_inches(9,5)\n",
    "fig.tight_layout()"
   ]
  },
  {
   "cell_type": "markdown",
   "id": "00853614-7632-45d4-84cf-58289a0d45a0",
   "metadata": {},
   "source": [
    "- Determine magnitude of the seasonal component relative to the range of data."
   ]
  },
  {
   "cell_type": "code",
   "execution_count": null,
   "id": "ffd6fb56-aa69-4ab0-9277-e8c8609bc33c",
   "metadata": {},
   "outputs": [],
   "source": [
    "# How big is seasonal component?\n",
    "seasonal_delta = decomp.seasonal.max() - decomp.seasonal.min()\n",
    "\n",
    "# How big the seasonal component relative to time series?\n",
    "print(f\"The seasonal component is {seasonal_delta} which is ~{seasonal_delta/(ts.max()-ts.min()) * 100 :.2f}% of the variation in time series.\")"
   ]
  },
  {
   "cell_type": "markdown",
   "id": "fce9306e-3869-4793-9c5c-3bc242427a31",
   "metadata": {},
   "source": [
    "- Determine length of a season (m)"
   ]
  },
  {
   "cell_type": "code",
   "execution_count": 2,
   "id": "65bcc77e-a3bf-449b-9019-eaa254a19da8",
   "metadata": {},
   "outputs": [],
   "source": [
    "# Zoom in on smaller time period if necessary to see length of season\n",
    "# decomp.seasonal.loc[\"YYYY\":].plot()"
   ]
  },
  {
   "cell_type": "markdown",
   "id": "de2f46b7-1144-4075-8c47-bfa730d5551a",
   "metadata": {
    "jp-MarkdownHeadingCollapsed": true
   },
   "source": [
    "### 5. Check Stationarity and determine differencing (d and D)"
   ]
  },
  {
   "cell_type": "markdown",
   "id": "0d7e9e42-c0e2-460c-8e15-03b638b27263",
   "metadata": {},
   "source": [
    "- Assess stationarity of time series. Stationarity is a critical assumption for many time series models.\n",
    "- Use statistical tests such as AD Fuller to check for this.\n",
    "    - If data is not stationary, apply transformations such as differencing or seasonal-differencing to achieve stationarity."
   ]
  },
  {
   "cell_type": "markdown",
   "id": "35611035-6471-4e6e-8ff4-fad73e6c88fe",
   "metadata": {},
   "source": [
    "- Checking Stationarity:\n",
    "    - Is the raw data stationary?\n",
    "    - If not, does differencing make it so?\n",
    "        - Apply single-order differencing and test again.\n",
    "        - If still not, apply second-order and try test again.\n",
    "        - For seasonal differencing, include m such as ts_diff = ts.diff(m).dropna()\n",
    "    - If applying differencing has achieved stationarity\n",
    "        - Note the order of differencing (1 or 2) as `d`\n",
    "        - Use the differenced time series for EDA steps such as ACF/PACF (but not forecasts)."
   ]
  },
  {
   "cell_type": "code",
   "execution_count": null,
   "id": "5ddcbfa7-44ea-4354-86dd-8e2ea3ae7b54",
   "metadata": {},
   "outputs": [],
   "source": [
    "# Check for stationarity\n",
    "get_adfuller_results(ts)"
   ]
  },
  {
   "cell_type": "code",
   "execution_count": null,
   "id": "82c4587a-808c-40f5-842a-558b47c667bd",
   "metadata": {},
   "outputs": [],
   "source": [
    "# In addition to this, or as an alternative, check programmatically for d and D\n",
    "d = ndiffs(ts)\n",
    "print(f'd = {d}')\n",
    "D = nsdiffs(ts, m='')\n",
    "print(f'D = {D}')"
   ]
  },
  {
   "cell_type": "code",
   "execution_count": null,
   "id": "9a1a75bd-80e4-4c08-8d09-a0c692240530",
   "metadata": {},
   "outputs": [],
   "source": [
    "## Apply differencing\n",
    "# For example, one nonseasonal differencing\n",
    "ts_diff = ts.diff().dropna()"
   ]
  },
  {
   "cell_type": "markdown",
   "id": "3feeb84b-75be-4ac6-84ec-24e22451ed86",
   "metadata": {
    "jp-MarkdownHeadingCollapsed": true
   },
   "source": [
    "### 6. Check Autocorrelation and Partial Autocorrelation to determine initial orders"
   ]
  },
  {
   "cell_type": "markdown",
   "id": "ce0df5a7-9e64-4c94-ad60-8ea930febf97",
   "metadata": {},
   "source": [
    "- Examine ACF and PACF plots to understand correlation between lagged observations.\n",
    "- These plots help identify autoregressive (AR) and moving average (MA) orders, and seasonal components present in the time series.\n",
    "- Use the differenced data when making these plots, the test are meant to be run on stationary data.\n",
    "- Make use of the custom function and annotate seasons if applicable.\n",
    "    - Only consider the seasonal lags when assessing seasonal orders."
   ]
  },
  {
   "cell_type": "code",
   "execution_count": null,
   "id": "e18e0806-6203-44a4-a2a5-f22377700a55",
   "metadata": {},
   "outputs": [],
   "source": [
    "plot_acf_pacf(ts_diff, annotate_seas=True, m='');"
   ]
  },
  {
   "cell_type": "markdown",
   "id": "246671a6-d441-49b9-a64a-5fc58e31d227",
   "metadata": {
    "jp-MarkdownHeadingCollapsed": true
   },
   "source": [
    "### 7. Split into Training and Test Sets"
   ]
  },
  {
   "cell_type": "markdown",
   "id": "09dedf81-57c9-4b91-8caf-eb6d91e7a64b",
   "metadata": {},
   "source": [
    "- Split the dataset into train and test sets. The train is used to fit the model, and the test for evaluating the models performance.\n",
    "- **Use the original, non-diff time series** since the ts will be differenced as part of modeling process.\n",
    "- The specified test size can either be:\n",
    "    - A percentage of the data (expressed as float, test_size=0.2\n",
    "    - A discrete number of lags (express as int, test_size=12)\n",
    "- It's recommended to visualize the tts"
   ]
  },
  {
   "cell_type": "code",
   "execution_count": null,
   "id": "50a795e7-245e-42ca-a861-ff7f79d14dde",
   "metadata": {},
   "outputs": [],
   "source": [
    "​from pmdarima.model_selection import train_test_split\n",
    "train, test = train_test_split(ts, test_size=___)\n",
    "​\n",
    "​## Visualize train-test-split\n",
    "ax = train.plot(label=\"train\")\n",
    "test.plot(label=\"test\")\n",
    "ax.legend();"
   ]
  },
  {
   "cell_type": "markdown",
   "id": "92e6cdd5-4040-46a7-a69d-ea63de6d96e5",
   "metadata": {
    "jp-MarkdownHeadingCollapsed": true
   },
   "source": [
    "### 8. Define the Time Series Model Orders and Fit the model to the training data"
   ]
  },
  {
   "cell_type": "markdown",
   "id": "19a15ed5-0eb0-4fa8-9a75-4c49fcb8a302",
   "metadata": {},
   "source": [
    "- Select and appropriate time series model based on the characteristics of the data, stationarity and autocorrelation analysis (ACF/PACF), and identified patterns. Models include ARIMA, SARIMA, auto_arima, etc."
   ]
  },
  {
   "cell_type": "code",
   "execution_count": null,
   "id": "994479e7-cd93-4663-96e7-88a4c76bc5bd",
   "metadata": {},
   "outputs": [],
   "source": [
    "# Orders for non seasonal components\n",
    "p = _  # nonseasonal AR\n",
    "d = _  # nonseasonal differencing\n",
    "q = _ # nonseasonal MA\n",
    "\n",
    "# Orders for seasonal components (if seasonal model)\n",
    "P = _  # Seasonal AR\n",
    "D = _  # Seasonal differencing\n",
    "Q = _  # Seasonal MA\n",
    "m = _ # Seasonal period\n",
    "\n",
    "sarima = tsa.ARIMA(train, order = (p,d,q), seasonal_order=(P,D,Q,m)).fit()"
   ]
  },
  {
   "cell_type": "code",
   "execution_count": null,
   "id": "bf99c63a-f5f0-4bc7-b32e-c5c028f22e6f",
   "metadata": {},
   "outputs": [],
   "source": [
    "# Examine model summary\n",
    "sarima.summary()"
   ]
  },
  {
   "cell_type": "code",
   "execution_count": null,
   "id": "feaa662d-bdf2-4374-ae0a-0b2abed40816",
   "metadata": {},
   "outputs": [],
   "source": [
    "# Check diagnosti plots\n",
    "fig = sarima.plot_diagnostics()\n",
    "fig.set_size_inches(10,6)\n",
    "fig.tight_layout()"
   ]
  },
  {
   "cell_type": "markdown",
   "id": "39dff02b-0265-4b5d-aadc-023d99c6db27",
   "metadata": {},
   "source": [
    "### 9. Generate and Visualize Forecasts"
   ]
  },
  {
   "cell_type": "markdown",
   "id": "c0df0ddd-0fb9-4d86-bf0d-94eaf1e782a5",
   "metadata": {},
   "source": [
    "- Once satisfied with the model's performance, utilize it to generate forecasts for the future time periods.\n",
    "- Specify desired forecast horizon and obtain point estimates for the future values.\n",
    "- Note: Make sure not to forecast any farther into the future than the number of time lags included in the test data.\n",
    "- Use the custom `plot_forecast` function."
   ]
  },
  {
   "cell_type": "code",
   "execution_count": null,
   "id": "35bb33c1-35c7-4ded-8a34-37d8969bf58f",
   "metadata": {},
   "outputs": [],
   "source": [
    "# Obtain summary of forecast as dataframe\n",
    "forecast_df = sarima.get_forecast(len(test)).summary_frame()\n",
    "# Plot the forecast with true values\n",
    "plot_forecast(train, test, forecast_df, n_train_lags = 50)"
   ]
  },
  {
   "cell_type": "markdown",
   "id": "de5e98b4-1b41-47a7-87a8-e4c969074a9a",
   "metadata": {},
   "source": [
    "### 10. Evaluate Model Performance"
   ]
  },
  {
   "cell_type": "markdown",
   "id": "ac4cb33f-2980-481b-9e07-ef515101d93a",
   "metadata": {},
   "source": [
    "- Assess performance of fitted model by comparing predictions to the actual values in the test set.\n",
    "- Use appropriate metrics such as mean squared error (MSE), mean absolute error (MAE), root mean squared error (RMSE) or R-squared."
   ]
  },
  {
   "cell_type": "code",
   "execution_count": 4,
   "id": "b2c64ee6-99f5-49bd-aa48-2ce3b4765c9b",
   "metadata": {},
   "outputs": [
    {
     "ename": "NameError",
     "evalue": "name 'regression_metrics_ts' is not defined",
     "output_type": "error",
     "traceback": [
      "\u001b[1;31m---------------------------------------------------------------------------\u001b[0m",
      "\u001b[1;31mNameError\u001b[0m                                 Traceback (most recent call last)",
      "Cell \u001b[1;32mIn[4], line 1\u001b[0m\n\u001b[1;32m----> 1\u001b[0m \u001b[43mregression_metrics_ts\u001b[49m(test, forecast_df[\u001b[38;5;124m'\u001b[39m\u001b[38;5;124mforecast\u001b[39m\u001b[38;5;124m'\u001b[39m])\n",
      "\u001b[1;31mNameError\u001b[0m: name 'regression_metrics_ts' is not defined"
     ]
    }
   ],
   "source": [
    "regression_metrics_ts(test, forecast_df['forecast']) # for example 'mean' for forecast"
   ]
  },
  {
   "cell_type": "markdown",
   "id": "644a54a9-de97-493e-a95b-f7148784a72e",
   "metadata": {
    "jp-MarkdownHeadingCollapsed": true
   },
   "source": [
    "### 11. Iterate as needed"
   ]
  },
  {
   "cell_type": "markdown",
   "id": "43db4cdd-6af2-42bf-9a3e-470ee990bed4",
   "metadata": {},
   "source": [
    "- Remember selecting the appropriate model depends on the characteristics of the specific ts data, and it may require iterations and adjustments to achieve the best results. There are several options for trying alternative methods:\n",
    "    - Manually fit other models\n",
    "    - Loop through variations of the model\n",
    "    - Use pmdarima's auto_arima"
   ]
  },
  {
   "cell_type": "markdown",
   "id": "1552bd8a-56c3-4f1e-b274-81706f52b537",
   "metadata": {
    "jp-MarkdownHeadingCollapsed": true
   },
   "source": [
    "### 12. Grid Search Orders with pmdarima"
   ]
  },
  {
   "cell_type": "markdown",
   "id": "55ebf530-7704-414f-aa70-1272a9bf200a",
   "metadata": {},
   "source": [
    "- When using auto_arima you must know if a model is seasonal or not, and the value of m if applicable."
   ]
  },
  {
   "cell_type": "code",
   "execution_count": null,
   "id": "bd6114c5-c1f5-42f3-97b0-ec8a44da2196",
   "metadata": {},
   "outputs": [],
   "source": [
    "import pmdarima as pm\n",
    "# Default auto_arima will select model based on AIC score\n",
    "auto_model = pm.auto_arima(\n",
    "    train,\n",
    "    seasonal=___,  # True or False\n",
    "    m=____,  # if seasonal\n",
    "    trace=True\n",
    ")"
   ]
  },
  {
   "cell_type": "markdown",
   "id": "fa76da35-7af2-49c2-acb3-2039c1b77e77",
   "metadata": {
    "jp-MarkdownHeadingCollapsed": true
   },
   "source": [
    "### 13. Fit Statsmodels SARIMA Model usodelthe Parameters from auto_arima"
   ]
  },
  {
   "cell_type": "markdown",
   "id": "ad6b875a-0f0b-41e0-bf98-131a3e981e54",
   "metadata": {},
   "source": [
    "- Make a new SARIMA model using auto_arima's `auto_arima.order` and `auto_arima.seasonal_order` to set params for the new model.\n",
    "- Fit the model on the training data and fully evaluate using the test data and forecast."
   ]
  },
  {
   "cell_type": "code",
   "execution_count": null,
   "id": "b7f3475c-fc4b-418f-b693-dd0bf827f322",
   "metadata": {},
   "outputs": [],
   "source": [
    "# Try auto_arima orders\n",
    "sarima = tsa.ARIMA(train, \n",
    "                   order = auto_model.order,\n",
    "                   seasonal_order=auto_model.seasonal_order).fit()\n",
    "# Obtain summary\n",
    "sarima.summary()"
   ]
  },
  {
   "cell_type": "markdown",
   "id": "404f9c99-4fbb-4078-8aa1-cffad66296bc",
   "metadata": {},
   "source": [
    "- Obtain model diagnostics and forecasts, as with previous model."
   ]
  },
  {
   "cell_type": "markdown",
   "id": "9b54419b-671b-4694-bb93-072e01bf8fa5",
   "metadata": {
    "jp-MarkdownHeadingCollapsed": true
   },
   "source": [
    "### 14. Select and justify final model"
   ]
  },
  {
   "cell_type": "markdown",
   "id": "3eade0c3-aed6-4ae9-8513-49b62ebbcf74",
   "metadata": {},
   "source": [
    "- Consider the summary, diagnostic plots, AIC, BIC, and regression metrics."
   ]
  },
  {
   "cell_type": "markdown",
   "id": "5be28a6d-5abc-42f8-9143-276a17b24e9e",
   "metadata": {
    "jp-MarkdownHeadingCollapsed": true
   },
   "source": [
    "### 15. Fit a final model on the entire time series"
   ]
  },
  {
   "cell_type": "markdown",
   "id": "bb4f294a-ea5a-4a98-b8e4-b78d0693307b",
   "metadata": {},
   "source": [
    "- Once the final model parameters/orders have been selected, train the final iteration of the model using the entire time series, not just the training data."
   ]
  },
  {
   "cell_type": "code",
   "execution_count": null,
   "id": "4a9153d3-1741-46c3-a78f-4ebb3a1ae373",
   "metadata": {},
   "outputs": [],
   "source": [
    "final_p = \"?\"\n",
    "final_q = \"?\"\n",
    "final_d = \"?\"\n",
    "final_P = \"?\"\n",
    "final_Q = \"?\"\n",
    "final_D = \"?\"\n",
    "​\n",
    "​final_model = tsa.ARIMA(\n",
    "    ts,\n",
    "    order=(final_p, final_d, final_q),\n",
    "    seasonal_order=(final_P, final_D, final_Q, m),\n",
    ").fit()"
   ]
  },
  {
   "cell_type": "markdown",
   "id": "9b388446-281c-49d5-a313-a4bbd689d7e2",
   "metadata": {
    "jp-MarkdownHeadingCollapsed": true
   },
   "source": [
    "### 16. Generate and Visualize Future Forecasts"
   ]
  },
  {
   "cell_type": "markdown",
   "id": "dffab4e1-01c4-4458-bb67-08f9fc6fc7c2",
   "metadata": {},
   "source": [
    "- Because the final model was trained on the entire set of train+test, it can now generate forecasts for future dates outside the dataset.\n",
    "- It's important to not run forecasts out father than the length of the test data used when training the model.\n",
    "- Lastly, visualize the observed values, fitted values, and forecasted values, along with condifence intervals. This helps communicate the results and provides insights into the uncertainty of forecasts."
   ]
  },
  {
   "cell_type": "code",
   "execution_count": null,
   "id": "fa2416d2-41f7-48cf-998b-f68d274a9ec7",
   "metadata": {},
   "outputs": [],
   "source": [
    "# Get forecast into future (fit on entire time series)\n",
    "forecast_df = final_model.get_forecast(len(test)).summary_frame()\n",
    "\n",
    "plot_forecast(train, test, forecast_df, n_train_lags=20);"
   ]
  },
  {
   "cell_type": "markdown",
   "id": "b315ea32-aaf5-4062-ab3c-a6013b1196d6",
   "metadata": {
    "jp-MarkdownHeadingCollapsed": true
   },
   "source": [
    "### 17 Calculate Summary Metrics for Stakeholder (optional)"
   ]
  },
  {
   "cell_type": "markdown",
   "id": "b1be10e5-a58d-438c-b14c-4f3f972c3dbf",
   "metadata": {},
   "source": [
    "- This will vary depending on stakeholder needs, but here are a few examples."
   ]
  },
  {
   "cell_type": "code",
   "execution_count": null,
   "id": "866925f8-379a-4701-8b8e-35f75d56f28d",
   "metadata": {},
   "outputs": [],
   "source": [
    "# Define starting and final values\n",
    "starting_value = forecast_df['mean'].iloc[0]\n",
    "final_value = forecast_df['mean'].iloc[-1]\n",
    "# Change in x\n",
    "delta = final_value - starting_value\n",
    "print(f'The change in X over the forecast is {delta: .2f}.')\n",
    "perc_change = (delta/starting_value) *100\n",
    "print (f'The percentage change is {perc_change :.2f}%.')"
   ]
  }
 ],
 "metadata": {
  "kernelspec": {
   "display_name": "Python 3 (ipykernel)",
   "language": "python",
   "name": "python3"
  },
  "language_info": {
   "codemirror_mode": {
    "name": "ipython",
    "version": 3
   },
   "file_extension": ".py",
   "mimetype": "text/x-python",
   "name": "python",
   "nbconvert_exporter": "python",
   "pygments_lexer": "ipython3",
   "version": "3.10.10"
  },
  "widgets": {
   "application/vnd.jupyter.widget-state+json": {
    "state": {},
    "version_major": 2,
    "version_minor": 0
   }
  }
 },
 "nbformat": 4,
 "nbformat_minor": 5
}
