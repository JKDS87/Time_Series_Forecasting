{
 "cells": [
  {
   "cell_type": "markdown",
   "id": "a1f86c9b-b1ca-4083-bc33-254de9958a80",
   "metadata": {},
   "source": [
    "# Intro to Time Series Modeling"
   ]
  },
  {
   "cell_type": "markdown",
   "id": "c9348d22-5b4a-4bb6-8daf-b426cdfe4248",
   "metadata": {},
   "source": [
    "- Conceptualize using steps in time as the features for a linear model\n",
    "- Recognize mathematical notation for time steps/lag\n",
    "- Perform a validation spliit on times series data\n",
    "- List the differences between a one-step-ahead forecast and a dynamic forecast"
   ]
  },
  {
   "cell_type": "markdown",
   "id": "fe8a9253-288a-43ab-ad37-3e50691cc59c",
   "metadata": {},
   "source": [
    "## Intro"
   ]
  },
  {
   "cell_type": "markdown",
   "id": "735092b6-5cb7-4b54-aa00-646c8e9e0056",
   "metadata": {},
   "source": [
    "- This unit will cover using time patterns as a feature for predicting behavior.\n",
    "- In previous lessons the idea of Linear Regression was covered, whereby different features had coefficients denoting their influence on the target. In the same way, time points can be considered features and used to predict future values.\n",
    "    - To use time series data points as features in this way, the timepoints *MUST* be spaced evenly."
   ]
  },
  {
   "cell_type": "markdown",
   "id": "2b745beb-f692-4f83-b56d-05fcd739d7e0",
   "metadata": {},
   "source": [
    "**Lags**\n",
    "- Lags are the previous time points in a time series model. Each step backward represents another lag.\n",
    "- If the target time is 'Yt', the previous time would be 'Yt-1', followed by 'Yt-2', etc.\n",
    "- *Data must be constructed differently to use a linear regression for time series data, with each column being the value for the target from a previous time lag.*\n",
    "- **True time series models will do this for us, but it will be demonstrated manually here to explain the concepts.**"
   ]
  },
  {
   "cell_type": "markdown",
   "id": "22495e24-6637-4b51-a87a-ccd81b6c2525",
   "metadata": {},
   "source": [
    "**Imports**"
   ]
  },
  {
   "cell_type": "code",
   "execution_count": 1,
   "id": "cc1b40e6-1713-4c85-b3ed-02dec50d4702",
   "metadata": {},
   "outputs": [],
   "source": [
    "import pandas as pd\n",
    "import numpy as np\n",
    "import matplotlib as mpl\n",
    "import matplotlib.pyplot as plt\n",
    "import seaborn as sns\n",
    "from sklearn.linear_model import LinearRegression\n",
    "from sklearn.metrics import mean_absolute_error, mean_squared_error, r2_score\n",
    "from sklearn import set_config\n",
    "set_config(transform_output='pandas')\n",
    "plt.rcParams['figure.figsize'] = (12, 4)\n",
    "sns.set_context('talk', font_scale=0.9)"
   ]
  },
  {
   "cell_type": "markdown",
   "id": "41334ef9-35a8-47e9-bcfc-40b592716e27",
   "metadata": {},
   "source": [
    "**Custom Functions**"
   ]
  },
  {
   "cell_type": "code",
   "execution_count": 5,
   "id": "e156274e-f55b-429a-804e-958f3689b774",
   "metadata": {},
   "outputs": [],
   "source": [
    "def regression_metrics(y_true, y_pred, label='', verbose=True, output_dict=False):\n",
    "    # Get metrics\n",
    "    mae = mean_absolute_error(y_true, y_pred)\n",
    "    mse = mean_squared_error(y_true, y_pred)\n",
    "    rmse = mean_squared_error(y_true, y_pred, squared=False) \n",
    "    r_squared = r2_score(y_true, y_pred)\n",
    "    if verbose == True:\n",
    "        # Print Result with Label and Header\n",
    "        header = \"-\"*60\n",
    "        print(header, f\"Regression Metrics: {label}\", header, sep='\\n')\n",
    "        print(f\"- MAE = {mae:,.3f}\")\n",
    "        print(f\"- MSE = {mse:,.3f}\")\n",
    "        print(f\"- RMSE = {rmse:,.3f}\")\n",
    "        print(f\"- R^2 = {r_squared:,.3f}\")\n",
    "    if output_dict == True:\n",
    "      metrics = {'Label':label, 'MAE':mae,\n",
    "                 'MSE':mse, 'RMSE':rmse, 'R^2':r_squared}\n",
    "      return metrics"
   ]
  },
  {
   "cell_type": "code",
   "execution_count": 6,
   "id": "193875c8-97e6-4bee-994b-678afff372fe",
   "metadata": {},
   "outputs": [],
   "source": [
    "def evaluate_regression(reg, X_train, y_train, X_test, y_test, verbose = True,\n",
    "                        output_frame=False):\n",
    "  # Get predictions for training data\n",
    "  y_train_pred = reg.predict(X_train)\n",
    " \n",
    "  # Call the helper function to obtain regression metrics for training data\n",
    "  results_train = regression_metrics(y_train, y_train_pred, verbose = verbose,\n",
    "                                     output_dict=output_frame,\n",
    "                                     label='Training Data')\n",
    "  print()\n",
    "  # Get predictions for test data\n",
    "  y_test_pred = reg.predict(X_test)\n",
    "  # Call the helper function to obtain regression metrics for test data\n",
    "  results_test = regression_metrics(y_test, y_test_pred, verbose = verbose,\n",
    "                                  output_dict=output_frame,\n",
    "                                    label='Test Data' )\n",
    "  \n",
    "  # Store results in a dataframe if ouput_frame is True\n",
    "  if output_frame:\n",
    "    results_df = pd.DataFrame([results_train,results_test])\n",
    "    # Set the label as the index \n",
    "    results_df = results_df.set_index('Label')\n",
    "    # Set index.name to none to get a cleaner looking result\n",
    "    results_df.index.name=None\n",
    "    # Return the dataframe\n",
    "    return results_df.round(3)"
   ]
  },
  {
   "cell_type": "code",
   "execution_count": null,
   "id": "8cdf9690-0097-442e-96b5-629f3158f25f",
   "metadata": {},
   "outputs": [],
   "source": []
  }
 ],
 "metadata": {
  "kernelspec": {
   "display_name": "Python 3 (ipykernel)",
   "language": "python",
   "name": "python3"
  },
  "language_info": {
   "codemirror_mode": {
    "name": "ipython",
    "version": 3
   },
   "file_extension": ".py",
   "mimetype": "text/x-python",
   "name": "python",
   "nbconvert_exporter": "python",
   "pygments_lexer": "ipython3",
   "version": "3.10.10"
  },
  "widgets": {
   "application/vnd.jupyter.widget-state+json": {
    "state": {},
    "version_major": 2,
    "version_minor": 0
   }
  }
 },
 "nbformat": 4,
 "nbformat_minor": 5
}
